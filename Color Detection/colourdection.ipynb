{
  "nbformat": 4,
  "nbformat_minor": 0,
  "metadata": {
    "colab": {
      "provenance": []
    },
    "kernelspec": {
      "name": "python3",
      "display_name": "Python 3"
    },
    "language_info": {
      "name": "python"
    }
  },
  "cells": [
    {
      "cell_type": "code",
      "source": [
        "pip install opencv-python numpy pandas"
      ],
      "metadata": {
        "colab": {
          "base_uri": "https://localhost:8080/"
        },
        "id": "R4WaMZWMcSFH",
        "outputId": "ff5654ce-9b89-446c-81d8-a8b92f0aa9e3"
      },
      "execution_count": 9,
      "outputs": [
        {
          "output_type": "stream",
          "name": "stdout",
          "text": [
            "Requirement already satisfied: opencv-python in /usr/local/lib/python3.10/dist-packages (4.8.0.76)\n",
            "Requirement already satisfied: numpy in /usr/local/lib/python3.10/dist-packages (1.23.5)\n",
            "Requirement already satisfied: pandas in /usr/local/lib/python3.10/dist-packages (1.5.3)\n",
            "Requirement already satisfied: python-dateutil>=2.8.1 in /usr/local/lib/python3.10/dist-packages (from pandas) (2.8.2)\n",
            "Requirement already satisfied: pytz>=2020.1 in /usr/local/lib/python3.10/dist-packages (from pandas) (2023.3.post1)\n",
            "Requirement already satisfied: six>=1.5 in /usr/local/lib/python3.10/dist-packages (from python-dateutil>=2.8.1->pandas) (1.16.0)\n"
          ]
        }
      ]
    },
    {
      "cell_type": "code",
      "execution_count": 8,
      "metadata": {
        "colab": {
          "base_uri": "https://localhost:8080/",
          "height": 158
        },
        "id": "2xdNmUOBbx7A",
        "outputId": "60814a86-3d5c-4a56-8658-de66fd9f3fc6"
      },
      "outputs": [
        {
          "output_type": "stream",
          "name": "stderr",
          "text": [
            "usage: colab_kernel_launcher.py [-h] -i IMAGE\n",
            "colab_kernel_launcher.py: error: the following arguments are required: -i/--image\n"
          ]
        },
        {
          "output_type": "error",
          "ename": "SystemExit",
          "evalue": "ignored",
          "traceback": [
            "An exception has occurred, use %tb to see the full traceback.\n",
            "\u001b[0;31mSystemExit\u001b[0m\u001b[0;31m:\u001b[0m 2\n"
          ]
        }
      ],
      "source": [
        "import cv2\n",
        "import numpy as np\n",
        "import pandas as pd\n",
        "import argparse\n",
        "\n",
        "#Creating argument parser to take image path from command line\n",
        "ap = argparse.ArgumentParser()\n",
        "ap.add_argument('-i', '--image', required=True, help=\"Image Path\")\n",
        "args = vars(ap.parse_args())\n",
        "img_path = args['image']\n",
        "\n",
        "#Reading the image with opencv\n",
        "img = cv2.imread(img_path)\n",
        "\n",
        "#declaring global variables (are used later on)\n",
        "clicked = False\n",
        "r = g = b = xpos = ypos = 0\n",
        "\n",
        "#Reading csv file with pandas and giving names to each column\n",
        "index=[\"color\",\"color_name\",\"hex\",\"R\",\"G\",\"B\"]\n",
        "csv = pd.read_csv('https://raw.githubusercontent.com/itsnivas-k/CodeClause/main/Color%20Detection/colors.csv', names=index, header=None)\n",
        "\n",
        "#function to calculate minimum distance from all colors and get the most matching color\n",
        "def getColorName(R,G,B):\n",
        "    minimum = 10000\n",
        "    for i in range(len(csv)):\n",
        "        d = abs(R- int(csv.loc[i,\"R\"])) + abs(G- int(csv.loc[i,\"G\"]))+ abs(B- int(csv.loc[i,\"B\"]))\n",
        "        if(d<=minimum):\n",
        "            minimum = d\n",
        "            cname = csv.loc[i,\"color_name\"]\n",
        "    return cname\n",
        "\n",
        "#function to get x,y coordinates of mouse double click\n",
        "def draw_function(event, x,y,flags,param):\n",
        "    if event == cv2.EVENT_LBUTTONDBLCLK:\n",
        "        global b,g,r,xpos,ypos, clicked\n",
        "        clicked = True\n",
        "        xpos = x\n",
        "        ypos = y\n",
        "        b,g,r = img[y,x]\n",
        "        b = int(b)\n",
        "        g = int(g)\n",
        "        r = int(r)\n",
        "\n",
        "cv2.namedWindow('image')\n",
        "cv2.setMouseCallback('image',draw_function)\n",
        "\n",
        "while(1):\n",
        "\n",
        "    cv2.imshow(\"image\",img)\n",
        "    if (clicked):\n",
        "\n",
        "        #cv2.rectangle(image, startpoint, endpoint, color, thickness)-1 fills entire rectangle\n",
        "        cv2.rectangle(img,(20,20), (750,60), (b,g,r), -1)\n",
        "\n",
        "        #Creating text string to display( Color name and RGB values )\n",
        "        text = getColorName(r,g,b) + ' R='+ str(r) +  ' G='+ str(g) +  ' B='+ str(b)\n",
        "\n",
        "        #cv2.putText(img,text,start,font(0-7),fontScale,color,thickness,lineType )\n",
        "        cv2.putText(img, text,(50,50),2,0.8,(255,255,255),2,cv2.LINE_AA)\n",
        "\n",
        "        #For very light colours we will display text in black colour\n",
        "        if(r+g+b>=600):\n",
        "            cv2.putText(img, text,(50,50),2,0.8,(0,0,0),2,cv2.LINE_AA)\n",
        "\n",
        "        clicked=False\n",
        "\n",
        "    #Break the loop when user hits 'esc' key\n",
        "    if cv2.waitKey(20) & 0xFF ==27:\n",
        "        break\n",
        "\n",
        "cv2.destroyAllWindows()"
      ]
    }
  ]
}